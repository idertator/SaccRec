{
 "cells": [
  {
   "cell_type": "markdown",
   "metadata": {},
   "source": [
    "read_sample lee una muestra a la vez\n",
    "\n",
    "Espera hasta timeout para devolver un error si no logra leer la muestra con el mensaje:\n",
    "SampleAcquisitionTimeout: **Time out occurred while waiting for a start byte**\n",
    "\n",
    "Da la impresión de que no hay buffer, si leo el puerto serie a tiempos superiores al intervalo entre muestras se pierden muestras. OpenBCI lo dice a través del byte de parada que no será 0x0C y tenemos acceso porque en la estructura de datos que envía por cada muestra el campo Valid = False\n",
    "\n",
    "**IMPORTANTE** El ID de muestra es de 8 bits, se reinicia a 0 cada 256 muestras\n",
    "** Secuencia**\n",
    "cyton.read_sample -> cyton.read_packet -> cyton.wait_start_byte -> pyserial.Serial.read(1)\n",
    "\n",
    "pyserial.Serial.read(size) se duerme hasta que entra valor por puerto serie o ocurre timeout y devuelve la cantidad de bytes que haya logrado leer\n",
    "\n",
    "dentro de cyton.wait_start_byte se lanza exception SampleAcquisitionTimeout cuando el pyserial.Serial.read() ha llegado al timeout y por lo tanto no devuelve ningún valor\n",
    "\n",
    "Estrategias:\n",
    "1. Probar con solamente una muestra\n",
    "2. \n",
    "\n",
    "\n"
   ]
  },
  {
   "cell_type": "code",
   "execution_count": 1,
   "metadata": {},
   "outputs": [],
   "source": [
    "import time\n",
    "import pandas as pd\n",
    "from openbci_interface import Cyton\n",
    "from openbci_interface.util import list_devices\n",
    "from serial import Serial\n",
    "import pickle\n",
    "\n",
    "# from saccrec.consts import DEBUG\n",
    "\n",
    "\"\"\"\n",
    "def list_ports():\n",
    "    if DEBUG:\n",
    "        return [\n",
    "            '/dev/ttyUSB0',\n",
    "            '/dev/ttyUSB1',\n",
    "        ]\n",
    "    return [port for port in list_devices()]\n",
    "\"\"\"\n",
    "def init_board():\n",
    "    sample_rate = 250\n",
    "    puerto = '/dev/ttyUSB0'\n",
    "    port = Serial(\n",
    "        port=puerto,\n",
    "        baudrate=115200,\n",
    "        timeout=2\n",
    "    )\n",
    "\n",
    "    print(\"configurando placa...\\n\")\n",
    "    lista = []\n",
    "    cnt = 0\n",
    "    with Cyton(port) as board:\n",
    "        board.set_board_mode('default')\n",
    "        board.set_sample_rate(sample_rate)\n",
    "        board.disable_channel(5)\n",
    "        board.disable_channel(6)\n",
    "        board.disable_channel(7)\n",
    "        board.disable_channel(8)\n",
    "        board.configure_channel(1, power_down='ON', gain=24, input_type='NORMAL', bias=0, srb2=0, srb1=1)\n",
    "        board.configure_channel(2, power_down='ON', gain=24, input_type='NORMAL', bias=0, srb2=0, srb1=1)\n",
    "        board.configure_channel(3, power_down='ON', gain=24, input_type='NORMAL', bias=0, srb2=0, srb1=1)\n",
    "        board.configure_channel(4, power_down='ON', gain=24, input_type='NORMAL', bias=0, srb2=0, srb1=1)\n",
    "        print(board.get_config())        \n",
    "        board.start_streaming()\n",
    "        for x in range(500):\n",
    "            sample = board.read_sample()\n",
    "            cnt += 1\n",
    "            lista.append(sample)\n",
    "            # time.sleep(0.85 / sample_rate)\n",
    "        board.stop_streaming()\n",
    "        fichero = open('datos.pickle', 'wb') \n",
    "        pickle.dump(lista,fichero)\n",
    "        fichero.close()\n",
    "        return lista, cnt"
   ]
  },
  {
   "cell_type": "code",
   "execution_count": 3,
   "metadata": {},
   "outputs": [
    {
     "name": "stdout",
     "output_type": "stream",
     "text": [
      "configurando placa...\n",
      "\n",
      "{'board_mode': 'default', 'sample_rate': 250, 'channels': [{'enabled': True, 'parameters': {'power_down': 'ON', 'gain': 24, 'input_type': 'NORMAL', 'bias': 0, 'srb2': 0, 'srb1': 1}}, {'enabled': True, 'parameters': {'power_down': 'ON', 'gain': 24, 'input_type': 'NORMAL', 'bias': 0, 'srb2': 0, 'srb1': 1}}, {'enabled': True, 'parameters': {'power_down': 'ON', 'gain': 24, 'input_type': 'NORMAL', 'bias': 0, 'srb2': 0, 'srb1': 1}}, {'enabled': True, 'parameters': {'power_down': 'ON', 'gain': 24, 'input_type': 'NORMAL', 'bias': 0, 'srb2': 0, 'srb1': 1}}, {'enabled': False, 'parameters': {'power_down': 'ON', 'gain': 24, 'input_type': 'NORMAL', 'bias': 1, 'srb2': 1, 'srb1': 0}}, {'enabled': False, 'parameters': {'power_down': 'ON', 'gain': 24, 'input_type': 'NORMAL', 'bias': 1, 'srb2': 1, 'srb1': 0}}, {'enabled': False, 'parameters': {'power_down': 'ON', 'gain': 24, 'input_type': 'NORMAL', 'bias': 1, 'srb2': 1, 'srb1': 0}}, {'enabled': False, 'parameters': {'power_down': 'ON', 'gain': 24, 'input_type': 'NORMAL', 'bias': 1, 'srb2': 1, 'srb1': 0}}, {'enabled': None, 'parameters': {'power_down': None, 'gain': None, 'input_type': None, 'bias': None, 'srb2': None, 'srb1': None}}, {'enabled': None, 'parameters': {'power_down': None, 'gain': None, 'input_type': None, 'bias': None, 'srb2': None, 'srb1': None}}, {'enabled': None, 'parameters': {'power_down': None, 'gain': None, 'input_type': None, 'bias': None, 'srb2': None, 'srb1': None}}, {'enabled': None, 'parameters': {'power_down': None, 'gain': None, 'input_type': None, 'bias': None, 'srb2': None, 'srb1': None}}, {'enabled': None, 'parameters': {'power_down': None, 'gain': None, 'input_type': None, 'bias': None, 'srb2': None, 'srb1': None}}, {'enabled': None, 'parameters': {'power_down': None, 'gain': None, 'input_type': None, 'bias': None, 'srb2': None, 'srb1': None}}, {'enabled': None, 'parameters': {'power_down': None, 'gain': None, 'input_type': None, 'bias': None, 'srb2': None, 'srb1': None}}, {'enabled': None, 'parameters': {'power_down': None, 'gain': None, 'input_type': None, 'bias': None, 'srb2': None, 'srb1': None}}]}\n"
     ]
    }
   ],
   "source": [
    "data, cnt = init_board()"
   ]
  },
  {
   "cell_type": "code",
   "execution_count": 4,
   "metadata": {},
   "outputs": [
    {
     "data": {
      "text/plain": [
       "500"
      ]
     },
     "execution_count": 4,
     "metadata": {},
     "output_type": "execute_result"
    }
   ],
   "source": [
    "cnt"
   ]
  },
  {
   "cell_type": "code",
   "execution_count": 82,
   "metadata": {},
   "outputs": [
    {
     "name": "stdout",
     "output_type": "stream",
     "text": [
      "[0, 1, 2, 3, 4, 5, 6, 7, 8, 9, 10, 11, 12, 13, 14, 15, 16, 17, 18, 19, 20, 21, 22, 23, 24, 25, 26, 27, 28, 29, 30, 31, 32, 33, 34, 35, 36, 37, 38, 39, 40, 41, 42, 43, 44, 45, 46, 47, 48, 49, 50, 51, 52, 53, 54, 55, 56, 57, 58, 59, 60, 61, 62, 63, 64, 65, 66, 67, 68, 69, 70, 71, 72, 73, 74, 75, 76, 77, 78, 79, 80, 81, 82, 83, 84, 85, 86, 87, 88, 89, 90, 91, 92, 93, 94, 95, 96, 97, 98, 99, 100, 101, 102, 103, 104, 105, 106, 107, 108, 109, 110, 111, 112, 113, 114, 115, 116, 117, 118, 119, 120, 121, 122, 123, 124, 125, 126, 127, 128, 129, 130, 131, 132, 133, 134, 135, 136, 137, 138, 139, 140, 141, 142, 143, 144, 145, 146, 147, 148, 149, 150, 151, 152, 153, 154, 155, 156, 157, 158, 159, 160, 161, 162, 163, 164, 165, 166, 167, 168, 169, 170, 171, 172, 173, 174, 175, 176, 177, 178, 179, 180, 181, 182, 183, 184, 185, 186, 187, 188, 189, 190, 191, 192, 193, 194, 195, 196, 197, 198, 199, 200, 201, 202, 203, 204, 205, 206, 207, 208, 209, 210, 211, 212, 213, 214, 215, 216, 217, 218, 219, 220, 221, 222, 223, 224, 225, 226, 227, 228, 229, 230, 231, 232, 233, 234, 235, 236, 237, 238, 239, 240, 241, 242, 243, 244, 245, 246, 247, 248, 249, 250, 251, 252, 253, 254, 255, 0, 1, 2, 3, 4, 5, 6, 7, 8, 9, 10, 11, 12, 13, 14, 15, 16, 17, 18, 19, 20, 21, 22, 23, 24, 25, 26, 27, 28, 29, 30, 31, 32, 33, 34, 35, 36, 37, 38, 39, 40, 41, 42, 43, 44, 45, 46, 47, 48, 49, 50, 51, 52, 53, 54, 55, 56, 57, 58, 59, 60, 61, 62, 63, 64, 65, 66, 67, 68, 69, 70, 71, 72, 73, 74, 75, 76, 77, 78, 79, 80, 81, 82, 83, 84, 85, 86, 87, 88, 89, 90, 91, 92, 93, 94, 95, 96, 97, 98, 99, 100, 101, 102, 103, 104, 105, 106, 107, 108, 109, 110, 111, 112, 113, 114, 115, 116, 117, 118, 119, 120, 121, 122, 123, 124, 125, 126, 127, 128, 129, 130, 131, 132, 133, 134, 135, 136, 137, 138, 139, 140, 141, 142, 143, 144, 145, 146, 147, 148, 149, 150, 151, 152, 153, 154, 155, 156, 157, 158, 159, 160, 161, 162, 163, 164, 165, 166, 167, 168, 169, 170, 171, 172, 173, 174, 175, 176, 177, 178, 179, 180, 181, 182, 183, 184, 185, 186, 187, 188, 189, 190, 191, 192, 193, 194, 195, 196, 197, 198, 199, 200, 201, 202, 203, 204, 205, 206, 207, 208, 209, 210, 211, 212, 213, 214, 215, 216, 217, 218, 219, 220, 221, 222, 223, 224, 225, 226, 227, 228, 229, 230, 231, 232, 233, 234, 235, 236, 237, 238, 239, 240, 241, 242, 243]\n"
     ]
    }
   ],
   "source": [
    "data[-1]"
   ]
  },
  {
   "cell_type": "code",
   "execution_count": 12,
   "metadata": {},
   "outputs": [
    {
     "data": {
      "text/plain": [
       "<generator object list_devices at 0x7f310f5efa20>"
      ]
     },
     "execution_count": 12,
     "metadata": {},
     "output_type": "execute_result"
    }
   ],
   "source": [
    "p = []\n",
    "from openbci_interface import util\n",
    "p = util.list_devices()\n",
    "p"
   ]
  }
 ],
 "metadata": {
  "kernelspec": {
   "display_name": "Python 3",
   "language": "python",
   "name": "python3"
  },
  "language_info": {
   "codemirror_mode": {
    "name": "ipython",
    "version": 3
   },
   "file_extension": ".py",
   "mimetype": "text/x-python",
   "name": "python",
   "nbconvert_exporter": "python",
   "pygments_lexer": "ipython3",
   "version": "3.7.3"
  },
  "latex_envs": {
   "LaTeX_envs_menu_present": true,
   "autoclose": false,
   "autocomplete": true,
   "bibliofile": "biblio.bib",
   "cite_by": "apalike",
   "current_citInitial": 1,
   "eqLabelWithNumbers": true,
   "eqNumInitial": 1,
   "hotkeys": {
    "equation": "Ctrl-E",
    "itemize": "Ctrl-I"
   },
   "labels_anchors": false,
   "latex_user_defs": false,
   "report_style_numbering": false,
   "user_envs_cfg": false
  },
  "varInspector": {
   "cols": {
    "lenName": 16,
    "lenType": 16,
    "lenVar": 40
   },
   "kernels_config": {
    "python": {
     "delete_cmd_postfix": "",
     "delete_cmd_prefix": "del ",
     "library": "var_list.py",
     "varRefreshCmd": "print(var_dic_list())"
    },
    "r": {
     "delete_cmd_postfix": ") ",
     "delete_cmd_prefix": "rm(",
     "library": "var_list.r",
     "varRefreshCmd": "cat(var_dic_list()) "
    }
   },
   "types_to_exclude": [
    "module",
    "function",
    "builtin_function_or_method",
    "instance",
    "_Feature"
   ],
   "window_display": false
  }
 },
 "nbformat": 4,
 "nbformat_minor": 2
}
