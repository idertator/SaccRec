{
 "cells": [
  {
   "cell_type": "code",
   "execution_count": 7,
   "metadata": {},
   "outputs": [],
   "source": [
    "from serial import Serial\n",
    "from openbci_interface import Cyton\n",
    "from openbci_interface import util\n",
    "from threading import Timer\n",
    "import time\n",
    "\n",
    "sample_freq = 250\n",
    "\n",
    "samples = []\n",
    "\n",
    "\n",
    "def openPort():\n",
    "    ports = []\n",
    "    for i in util.list_devices():\n",
    "        ports.append(i)\n",
    "    print(ports[0])\n",
    "    puerto = Serial(port=ports[0],baudrate=115200,timeout=2)\n",
    "    return puerto\n",
    "\n",
    "\n",
    "def bciConfig():\n",
    "    port = openPort()\n",
    "    board = Cyton(port,0)\n",
    "    board.set_board_mode('default')\n",
    "    board.set_sample_rate(250)\n",
    "\n",
    "    board.disable_channel(5)\n",
    "    board.disable_channel(6)\n",
    "    board.disable_channel(7)\n",
    "    board.disable_channel(8)\n",
    "    board.configure_channel(1, power_down='ON', gain=24, input_type='NORMAL', bias=0, srb2=0, srb1=1)\n",
    "    board.configure_channel(2, power_down='ON', gain=24, input_type='NORMAL', bias=0, srb2=0, srb1=1)\n",
    "    board.configure_channel(3, power_down='ON', gain=24, input_type='NORMAL', bias=0, srb2=0, srb1=1)\n",
    "    board.configure_channel(4, power_down='ON', gain=24, input_type='NORMAL', bias=0, srb2=0, srb1=1)\n",
    "    return board\n",
    "\n",
    "\n",
    "\n",
    "def single_read(board):\n",
    "    sample = board.read_sample()\n",
    "    samples.append(sample)\n",
    " \n",
    "\n"
   ]
  },
  {
   "cell_type": "code",
   "execution_count": 8,
   "metadata": {},
   "outputs": [
    {
     "name": "stdout",
     "output_type": "stream",
     "text": [
      "/dev/ttyUSB1\n"
     ]
    },
    {
     "name": "stderr",
     "output_type": "stream",
     "text": [
      "/home/r/.local/lib/python3.7/site-packages/openbci_interface/cyton.py:65: UserWarning: Gain value is not explicitly set. Using 24.\n",
      "  warnings.warn('Gain value is not explicitly set. Using 24.')\n"
     ]
    },
    {
     "name": "stdout",
     "output_type": "stream",
     "text": [
      "[{'packet_id': 0, 'eeg': [0.0, 0.0, 0.0, 0.0, 0.0, 0.0, 0.0, 0.0], 'aux': [0.06, -0.004, 0.992], 'valid': True, 'timestamp': 1565713109.062261}]\n"
     ]
    }
   ],
   "source": [
    "def principal():\n",
    "    board = bciConfig()\n",
    "    timer = Timer(0.85/sample_freq, single_read, [board])\n",
    "    board.start_streaming()\n",
    "    timer.start()\n",
    "    time.sleep(5)\n",
    "    timer.cancel()\n",
    "    board.stop_streaming()\n",
    "    board.terminate()\n",
    "    print(samples)\n",
    "principal()"
   ]
  },
  {
   "cell_type": "code",
   "execution_count": 11,
   "metadata": {},
   "outputs": [
    {
     "data": {
      "text/plain": [
       "0"
      ]
     },
     "execution_count": 11,
     "metadata": {},
     "output_type": "execute_result"
    }
   ],
   "source": [
    "cnt"
   ]
  },
  {
   "cell_type": "code",
   "execution_count": 3,
   "metadata": {},
   "outputs": [
    {
     "data": {
      "text/plain": [
       "[{'packet_id': 0,\n",
       "  'eeg': [0.0, 0.0, 0.0, 0.0, 0.0, 0.0, 0.0, 0.0],\n",
       "  'aux': [0.062, -0.006, 0.99],\n",
       "  'valid': True,\n",
       "  'timestamp': 1565712652.2535222}]"
      ]
     },
     "execution_count": 3,
     "metadata": {},
     "output_type": "execute_result"
    }
   ],
   "source": [
    "samples"
   ]
  }
 ],
 "metadata": {
  "kernelspec": {
   "display_name": "Python 3",
   "language": "python",
   "name": "python3"
  },
  "language_info": {
   "codemirror_mode": {
    "name": "ipython",
    "version": 3
   },
   "file_extension": ".py",
   "mimetype": "text/x-python",
   "name": "python",
   "nbconvert_exporter": "python",
   "pygments_lexer": "ipython3",
   "version": "3.7.3"
  },
  "latex_envs": {
   "LaTeX_envs_menu_present": true,
   "autoclose": false,
   "autocomplete": true,
   "bibliofile": "biblio.bib",
   "cite_by": "apalike",
   "current_citInitial": 1,
   "eqLabelWithNumbers": true,
   "eqNumInitial": 1,
   "hotkeys": {
    "equation": "Ctrl-E",
    "itemize": "Ctrl-I"
   },
   "labels_anchors": false,
   "latex_user_defs": false,
   "report_style_numbering": false,
   "user_envs_cfg": false
  },
  "varInspector": {
   "cols": {
    "lenName": 16,
    "lenType": 16,
    "lenVar": 40
   },
   "kernels_config": {
    "python": {
     "delete_cmd_postfix": "",
     "delete_cmd_prefix": "del ",
     "library": "var_list.py",
     "varRefreshCmd": "print(var_dic_list())"
    },
    "r": {
     "delete_cmd_postfix": ") ",
     "delete_cmd_prefix": "rm(",
     "library": "var_list.r",
     "varRefreshCmd": "cat(var_dic_list()) "
    }
   },
   "types_to_exclude": [
    "module",
    "function",
    "builtin_function_or_method",
    "instance",
    "_Feature"
   ],
   "window_display": false
  }
 },
 "nbformat": 4,
 "nbformat_minor": 2
}
