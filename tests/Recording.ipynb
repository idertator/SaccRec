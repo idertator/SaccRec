{
 "cells": [
  {
   "cell_type": "code",
   "execution_count": 1,
   "metadata": {},
   "outputs": [
    {
     "name": "stdout",
     "output_type": "stream",
     "text": [
      "Populating the interactive namespace from numpy and matplotlib\n"
     ]
    }
   ],
   "source": [
    "%pylab qt"
   ]
  },
  {
   "cell_type": "markdown",
   "metadata": {},
   "source": [
    "# Recording tests"
   ]
  },
  {
   "cell_type": "code",
   "execution_count": 7,
   "metadata": {},
   "outputs": [],
   "source": [
    "from saccrec.core import Channel\n",
    "from saccrec.core.study import Study\n",
    "\n",
    "STUDIES = [\n",
    "    '/home/idertator/Recordings/P7010100.rec',\n",
    "    '/home/idertator/Recordings/RBG300986.rec',\n",
    "]"
   ]
  },
  {
   "cell_type": "code",
   "execution_count": 33,
   "metadata": {},
   "outputs": [
    {
     "data": {
      "text/plain": [
       "array([206, 191, 222, 204, 179, 219, 187, 237, 215, 243, 235, 238, 239,\n",
       "       255, 102, 246,   2, 141, 100, 139,  98, 115, 137,  45, 113, 135,\n",
       "        55, 133, 210, 131, 208, 174, 206, 204, 181, 202, 163, 200, 198,\n",
       "       186, 179, 223, 177, 194, 175, 182, 192, 221, 216, 219, 235,  19,\n",
       "        68,  66, 243, 130, 128,  62,  86, 126,  99, 124,  42,  95,  21,\n",
       "        80, 158, 120,  78, 156, 118, 137, 186, 154, 184, 219,   7, 169,\n",
       "         5, 215, 167, 213,   3,  61, 211,   1,  59,  57, 107, 137, 138,\n",
       "       139, 140, 141, 142, 143, 144,  22, 251, 229], dtype=uint8)"
      ]
     },
     "execution_count": 33,
     "metadata": {},
     "output_type": "execute_result"
    }
   ],
   "source": [
    "path = STUDIES[1]\n",
    "study = Study.open(path)\n",
    "test = study[1]\n",
    "\n",
    "ts = test.channel_samples(Channel.Timestamps)\n",
    "ts[-100:]"
   ]
  },
  {
   "cell_type": "code",
   "execution_count": 39,
   "metadata": {},
   "outputs": [
    {
     "data": {
      "text/plain": [
       "[<matplotlib.lines.Line2D at 0x7fb415dcfb20>]"
      ]
     },
     "execution_count": 39,
     "metadata": {},
     "output_type": "execute_result"
    }
   ],
   "source": [
    "plot(test.stimulus[1:] * 10000)\n",
    "plot(test.horizontal[1:])"
   ]
  },
  {
   "cell_type": "code",
   "execution_count": null,
   "metadata": {},
   "outputs": [],
   "source": []
  }
 ],
 "metadata": {
  "kernelspec": {
   "display_name": "Python 3",
   "language": "python",
   "name": "python3"
  },
  "language_info": {
   "codemirror_mode": {
    "name": "ipython",
    "version": 3
   },
   "file_extension": ".py",
   "mimetype": "text/x-python",
   "name": "python",
   "nbconvert_exporter": "python",
   "pygments_lexer": "ipython3",
   "version": "3.9.0"
  }
 },
 "nbformat": 4,
 "nbformat_minor": 4
}
